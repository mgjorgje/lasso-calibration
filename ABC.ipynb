{
  "cells": [
    {
      "cell_type": "markdown",
      "metadata": {
        "id": "view-in-github",
        "colab_type": "text"
      },
      "source": [
        "<a href=\"https://colab.research.google.com/github/mgjorgje/lasso-calibration/blob/main/ABC.ipynb\" target=\"_parent\"><img src=\"https://colab.research.google.com/assets/colab-badge.svg\" alt=\"Open In Colab\"/></a>"
      ]
    },
    {
      "cell_type": "markdown",
      "metadata": {
        "id": "hVL8FiqYv37P"
      },
      "source": [
        "We use the libraries numpy and matplotlib for numerical computation and graphical outputs respectively. The library sklearn is exclussively used for the linear lasso model, otherwise we would need to write an optimization algorithm for the lasso. We also import the LassoCV function which will be used\n",
        "later to check our cross validation error function."
      ]
    },
    {
      "cell_type": "markdown",
      "source": [
        "Introduction\n",
        "\n",
        "\n",
        "The goal of this project is to study the statistical properties of the Akaike information criterium (AIC), Bayesian information criterium (BIC) and Cross validation (CV) for model selection via simulation. We generate Gaussian data $Y=X\\beta_*+\\epsilon$ where $X$ is an $n$ by $p$ random Gaussian matrix with independent $N(0,1)$ entries, $\\beta_*$ is a $p$ dimensional vector (i.e. the true parameter) and $\\epsilon$ is $n$ dimensional random vector with $N(0,\\sigma I_n)$ distribution, independent from $X$. We are interested in the calibration of the LASSO (Least Absolute Scrhinkage Selection Operator) estimator which is defined by\n",
        "\n",
        "$\\begin{equation*}\n",
        "\\hat{\\beta}_{lasso,\\lambda}=argmin_{\\beta\\in\\mathbb{R}^p}(||Y-X\\beta||^2+\\lambda ||\\beta||_{1})\n",
        "\\end{equation*}$\n",
        "\n",
        "The parameter $\\lambda$ is known as a regularization parameter and controls the sparsity (i.e. number of nonzero coeficients) of the estimator $\\hat{\\beta}_{lasso}$. High values of $\\lambda$ induce sparsity of the estimator, while low values (close to zero) give results similar to the standard least square estimator. We are concerned with how we should choose the parameter $\\lambda$.\n",
        "The approach will be to employ a model selection criteria such as AIC, BIC, CV, and test their performance over many simulations in various ways. We will study both the low dimensional ($p$ small compared to $n$) and high dimensional regime ($p$ comparable or larger than $n$). We will also study how the noise $\\epsilon$ affects the model selection procedure.\n",
        "\n"
      ],
      "metadata": {
        "id": "z1yT61OAGhco"
      }
    },
    {
      "cell_type": "code",
      "execution_count": 65,
      "metadata": {
        "id": "eGpAeh77wHw6"
      },
      "outputs": [],
      "source": [
        "import numpy as np\n",
        "import pandas as pd\n",
        "from matplotlib import pyplot as plt\n",
        "import sklearn \n",
        "from sklearn import linear_model\n",
        "from sklearn.linear_model import LassoCV"
      ]
    },
    {
      "cell_type": "markdown",
      "metadata": {
        "id": "PjI-c-80WfGG"
      },
      "source": [
        "We begin by defining some basic functions which will be of use later. In particular the function $pen()$ returns the number of nonzero components of a given vector."
      ]
    },
    {
      "cell_type": "code",
      "execution_count": 66,
      "metadata": {
        "id": "dKq1HH1gEO2w"
      },
      "outputs": [],
      "source": [
        "def pen(beta):\n",
        "  s=0\n",
        "  for i in range(0,len(beta)):\n",
        "    if beta[i]!=0:\n",
        "      s=s+1\n",
        "  return(s)\n",
        "\n",
        "def norm(x):\n",
        "  return(np.dot(x,x))"
      ]
    },
    {
      "cell_type": "code",
      "source": [
        "def lasso_optimizer(LAMBDA):\n",
        "  if LAMBDA==0:\n",
        "    lm=linear_model.LinearRegression(fit_intercept=False)\n",
        "  else:\n",
        "    lm=linear_model.Lasso(alpha=LAMBDA,fit_intercept=False,max_iter=1000000,tol=0.00001)\n",
        "  return lm"
      ],
      "metadata": {
        "id": "sVPPIHIBCQUy"
      },
      "execution_count": null,
      "outputs": []
    },
    {
      "cell_type": "markdown",
      "source": [
        "Now we generate the data."
      ],
      "metadata": {
        "id": "5gUjPoZdekTF"
      }
    },
    {
      "cell_type": "code",
      "source": [
        "# n = number of samples\n",
        "n=100\n",
        "# p = number of features (covariates, explanatory variables)\n",
        "p=10\n",
        "#p0 = number of features relevant for the model i.e. Y depends only on these features\n",
        "p0=5\n",
        "# sigma = noise of the observation\n",
        "sigma=1\n",
        "# beta0 = true parameter\n",
        "\n",
        "beta0=np.concatenate((np.ones(p0),np.zeros(p-p0)))\n",
        "\n",
        "# X- data matrix\n",
        "\n",
        "X=np.random.normal(0,1,size=n*p).reshape(n,p)\n",
        "\n",
        "# Y- data of noisy observations\n",
        "\n",
        "Y=np.dot(X,beta0)+np.random.normal(0,sigma,size=n)\n",
        "\n",
        "plt.title('Red- Noise free observation, Blue- Noisy observation')\n",
        "plt.scatter(np.dot(X,beta0),Y)\n",
        "plt.plot(np.dot(X,beta0),np.dot(X,beta0),c='red')\n",
        "plt.xlabel('true response')\n",
        "plt.ylabel('noisy observation')\n",
        "\n",
        "plt.show()"
      ],
      "metadata": {
        "colab": {
          "base_uri": "https://localhost:8080/",
          "height": 295
        },
        "id": "5Zyv1U-JR6NL",
        "outputId": "6135b35b-21df-41f2-c147-aaec7a0c7fbe"
      },
      "execution_count": 67,
      "outputs": [
        {
          "output_type": "display_data",
          "data": {
            "text/plain": [
              "<Figure size 432x288 with 1 Axes>"
            ],
            "image/png": "[encoded data removed]"
          },
          "metadata": {
            "needs_background": "light"
          }
        }
      ]
    },
    {
      "cell_type": "markdown",
      "source": [
        "Model selection is performed in the following setting: for a grid of values of $\\lambda$, we compute $\\hat\\beta_{lasso,\\lambda}$ using the sklearn library. AIC and BIC are similar for implementation, and are somewhat easier then CV.\n",
        "\n",
        "Given a finite grid of values $\\mathscr{M}$ (which will consist of equally spaced points between two values), the value of $\\lambda$ chosen by AIC is \n",
        "\n",
        "$\\lambda_{AIC}=argmin_{\\lambda\\in\\mathscr{M}} ||Y-X\\beta_{lasso,\\lambda}||^2+2\\sigma^2||\\beta_{lasso,\\lambda}||_0 $\n",
        "\n",
        "The value of $\\lambda$ chosen by BIC is \n",
        "\n",
        "$ \\lambda_{BIC}=argmin_{\\lambda\\in\\mathscr{M}} ||Y-X\\beta_{lasso,\\lambda}||^2+\\sigma^2||\\beta_{lasso,\\lambda}||_0\\log(n)$\n",
        "\n",
        "The following code defines functions that return the best AIC and BIC estimates $\\lambda_{AIC}$, $\\lambda_{BIC}$, given the data $X$, $Y$, the noise $\\sigma$ and the model $\\mathscr{M}$ .Note that because the sklearn function linear_model.Lasso() does not converge well for $λ=0$ (in which case we have the usual least square estimator), we fit standard least squares model for $\\lambda=0$. In order to simplify the code, we always assume that $\\lambda=0$ belongs to our collection of models $\\mathscr{M}$."
      ],
      "metadata": {
        "id": "PV5kUd3rfOfL"
      }
    },
    {
      "cell_type": "code",
      "source": [
        " def AIC_selector(X,Y,z,sigma):\n",
        "  aic_0=None\n",
        "  aerror=None\n",
        "  forplots=[]\n",
        "\n",
        "  for i in z:\n",
        "\n",
        "\n",
        "    if i==z[0]:\n",
        "\n",
        "      lsm=linear_model.LinearRegression(fit_intercept=False)\n",
        "      lsm.fit(X,Y)\n",
        "      beta=lsm.coef_\n",
        "      aerror=norm(Y-np.dot(X,beta))+2*sigma**2*pen(beta)\n",
        "      aic_0=0\n",
        "\n",
        "    else:\n",
        "      lm=lasso_optimizer(i)\n",
        "      lm.fit(X,Y)\n",
        "      beta=lm.coef_\n",
        "\n",
        "\n",
        "    aic=norm(Y-np.dot(X,beta))+2*sigma**2*pen(beta)\n",
        "      \n",
        "    if aic<aerror:\n",
        "      aerror=aic\n",
        "      aic_0=i\n",
        "\n",
        "    forplots.append(aic)\n",
        "  return(aic_0)"
      ],
      "metadata": {
        "id": "my1Dc602Y_I8"
      },
      "execution_count": 68,
      "outputs": []
    },
    {
      "cell_type": "code",
      "source": [
        "def BIC_selector(X,Y,z,sigma):\n",
        "  bic_0=None\n",
        "  berror=None\n",
        "\n",
        "  for i in z:\n",
        "\n",
        "    if i==z[0]:\n",
        "      lsm=linear_model.LinearRegression(fit_intercept=False)\n",
        "      lsm.fit(X,Y)\n",
        "      beta=lsm.coef_\n",
        "      berror=norm(Y-np.dot(X,beta))+np.log(len(Y))*sigma**2*pen(beta)\n",
        "      bic_0=0\n",
        "\n",
        "    else:\n",
        "      lm=lasso_optimizer(i)\n",
        "      lm.fit(X,Y)\n",
        "      beta=lm.coef_\n",
        "\n",
        "\n",
        "    bic=norm(Y-np.dot(X,beta))+np.log(len(Y))*sigma**2*pen(beta)\n",
        "     \n",
        "    if bic<berror:\n",
        "      berror=bic\n",
        "      bic_0=i\n",
        " \n",
        "  return(bic_0)"
      ],
      "metadata": {
        "id": "Vsk2i4dSY650"
      },
      "execution_count": 69,
      "outputs": []
    },
    {
      "cell_type": "code",
      "source": [
        "z=np.linspace(0,2,300)\n",
        "\n",
        "lambda_aic=AIC_selector(X,Y,z,1)\n",
        "lambda_bic=BIC_selector(X,Y,z,1)\n",
        "\n",
        "lma=lasso_optimizer(lambda_aic)\n",
        "lma.fit(X,Y)\n",
        "\n",
        "lmb=lasso_optimizer(lambda_bic)\n",
        "lmb.fit(X,Y)\n",
        "\n",
        "print('Lambda_aic = ',lambda_aic,'Beta(lambda_aic) = ', lma.coef_ , 'l_0 norm = ',pen(lma.coef_))\n",
        "print('Lambda_bic = ',lambda_bic,'Beta(lambda_bic) = ', lmb.coef_, 'l_0 norm = ',pen(lmb.coef_))\n"
      ],
      "metadata": {
        "colab": {
          "base_uri": "https://localhost:8080/"
        },
        "id": "eR0j5PY1UGAJ",
        "outputId": "1521d634-2666-446a-949e-7ea0a2b8ae58"
      },
      "execution_count": 70,
      "outputs": [
        {
          "output_type": "stream",
          "name": "stdout",
          "text": [
            "Lambda_aic =  0.09364548494983277 Beta(lambda_aic) =  [ 0.91675933  1.02453754  0.87609457  0.91570992  0.999739    0.\n",
            "  0.          0.          0.         -0.        ] l_0 norm =  5\n",
            "Lambda_bic =  0.09364548494983277 Beta(lambda_bic) =  [ 0.91675933  1.02453754  0.87609457  0.91570992  0.999739    0.\n",
            "  0.          0.          0.         -0.        ] l_0 norm =  5\n"
          ]
        }
      ]
    },
    {
      "cell_type": "markdown",
      "source": [
        "Let us discuss CV in practice now. CV should, to each $\\lambda$ assign an error. CV splits the data into training and testing set, it trains the model on the training set and evaluates its performance on the testing set. This is done for k folds, and the average error is returned. CV will choose $\\lambda$ with minimal cross validation error.\n",
        "\n",
        "$Implementation$\n",
        "\n",
        "We need to build our own cross validation function. We will use cyclic splitting of the data. In parameter settings, it is advisable to use kfold = number of folds for cross validation such that kfold divides n, otherwise the last few samples will not be used for cross validation. If we set kfold=n, we get the leave one out cross validation, i.e. LOOCV."
      ],
      "metadata": {
        "id": "z0Ur2SEHg1e-"
      }
    },
    {
      "cell_type": "code",
      "source": [
        "# This function takes all the samples with indices outside the range [low,high)\n",
        "def train_split(X,low,high):\n",
        "  X_train=X[np.delete(np.arange(len(X)),np.arange(low,high))]\n",
        "  return(X_train)\n",
        "\n",
        "# This function takes all the samples with indices in range [low,high)\n",
        "def test_split(X,low,high):\n",
        "  X_test=X[np.arange(low,high)]\n",
        "  return(X_test)\n",
        "\n",
        "# This is the CV function, LAMBDA stands for the lambda for which we want to\n",
        "# do the CV procedure, and kfolds stands for the number of folds to be used \n",
        "\n",
        "def CV(X,Y,LAMBDA,kfolds):\n",
        "  lm=lasso_optimizer(LAMBDA)\n",
        "  i=0\n",
        "  w=0\n",
        "  s=int(len(Y)/kfolds)\n",
        "  while i<len(Y):\n",
        "    lm.fit(train_split(X,i,i+s),train_split(Y,i,i+s))\n",
        "    if i+s<len(Y):\n",
        "      w=w+norm(test_split(Y,i,i+s)-lm.predict(test_split(X,i,i+s)))\n",
        "    i=i+s\n",
        "  return(w/kfolds)"
      ],
      "metadata": {
        "id": "2NeNz2dfhUhm"
      },
      "execution_count": 71,
      "outputs": []
    },
    {
      "cell_type": "markdown",
      "source": [
        "Now that we have a cross validation error function, we can select   $\\lambda$ \n",
        "according to cross validation by testing it on a grid of values like for the AIC and BIC. We also plot the value of the CV criterion as a function of $\\lambda$."
      ],
      "metadata": {
        "id": "w30-BUS0iIQa"
      }
    },
    {
      "cell_type": "code",
      "source": [
        "# This function returns the cross validation selected value of lambda\n",
        "# z is the grid on which we choose lambda. \n",
        "def CV_selector(X,Y,z):\n",
        "  cval_0=None\n",
        "  error=None\n",
        "  cval=None\n",
        "\n",
        "\n",
        "  for i in z:\n",
        "    cval=CV(X,Y,i,10)\n",
        "  \n",
        "\n",
        "    if i==z[0]:\n",
        "      cval_0=i\n",
        "      error=cval\n",
        "\n",
        "    if cval<error:\n",
        "\n",
        "      cval_0=i\n",
        "      error=cval\n",
        "  return(cval_0)\n"
      ],
      "metadata": {
        "id": "m9RJTJHBVmux"
      },
      "execution_count": 72,
      "outputs": []
    },
    {
      "cell_type": "code",
      "source": [
        "z=np.linspace(0,2,500)\n",
        "our=[]\n",
        "official=[]\n",
        "\n",
        "lm=linear_model.LinearRegression(fit_intercept=False)\n",
        "\n",
        "for i in range(0,20):\n",
        "  X=np.random.normal(0,1,size=n*p).reshape(n,p)\n",
        "  Y=np.dot(X,beta0)+np.random.normal(0,sigma,size=n)\n",
        "  our_cv=CV_selector(X,Y,z)\n",
        "# cv here is the parameter for number of folds\n",
        "# In python, lambda is called alpha, so alphas=z means we \n",
        "# only test along the said grid, instead of the default setting\n",
        "# of the LassoCV function\n",
        "\n",
        "  \n",
        "\n",
        "  test = LassoCV(cv=10,fit_intercept=False,alphas=np.delete(z,0))\n",
        "# we fit the LassoCV function to our data\n",
        "  test.fit(X,Y)\n",
        "# we extract the estimated lambda from LassoCV (direct analogue to cv.glmnet in R)\n",
        "  cv_official=test.alpha_\n",
        "\n",
        "  \n",
        "\n",
        "\n",
        "  official.append(cv_official)\n",
        "  our.append(our_cv)\n",
        "\n",
        "vis=pd.DataFrame(data=[our,official,np.array(our)-np.array(official)],index=['Our cv value','LassoCV cv value','Difference']) \n",
        "\n",
        " "
      ],
      "metadata": {
        "id": "PqSd6KN0jDng"
      },
      "execution_count": 73,
      "outputs": []
    },
    {
      "cell_type": "markdown",
      "source": [
        "Because the code for cross validation is a bit more sophisticated then simply finding a minimum of a list, it is wise to check if our cross validation function is in fact correct. We do this using the sklearn function LassoCV. It is possible that our cv function and the LassoCV dont match. To see how good our cv function is we do 20 simulations and compare the results. If the results are close, this means our implementation is correct. Note that we have 50 different values for which we test at each iteration. We directly define a function that returns $\\lambda_{CV}$ given $X,Y$ and $\\mathscr{M}$ "
      ],
      "metadata": {
        "id": "fEzKYYcDjEa-"
      }
    },
    {
      "cell_type": "code",
      "source": [
        "vis"
      ],
      "metadata": {
        "colab": {
          "base_uri": "https://localhost:8080/",
          "height": 242
        },
        "id": "2kfbzHy3jhAL",
        "outputId": "42d73d50-44ae-4b65-d523-9404a80e72aa"
      },
      "execution_count": 74,
      "outputs": [
        {
          "output_type": "execute_result",
          "data": {
            "text/plain": [
              "                        0         1         2        3         4         5   \\\n",
              "Our cv value      0.024048  0.024048  0.016032  0.04008  0.040080  0.068136   \n",
              "LassoCV cv value  0.012024  0.040080  0.016032  0.04008  0.008016  0.060120   \n",
              "Difference        0.012024 -0.016032  0.000000  0.00000  0.032064  0.008016   \n",
              "\n",
              "                        6         7         8         9         10        11  \\\n",
              "Our cv value      0.016032  0.044088  0.032064  0.028056  0.092184  0.084168   \n",
              "LassoCV cv value  0.016032  0.044088  0.036072  0.040080  0.088176  0.080160   \n",
              "Difference        0.000000  0.000000 -0.004008 -0.012024  0.004008  0.004008   \n",
              "\n",
              "                        12        13        14        15        16        17  \\\n",
              "Our cv value      0.000000  0.056112  0.052104  0.044088  0.052104  0.036072   \n",
              "LassoCV cv value  0.024048  0.056112  0.040080  0.052104  0.056112  0.040080   \n",
              "Difference       -0.024048  0.000000  0.012024 -0.008016 -0.004008 -0.004008   \n",
              "\n",
              "                       18        19  \n",
              "Our cv value      0.00000  0.008016  \n",
              "LassoCV cv value  0.02004  0.008016  \n",
              "Difference       -0.02004  0.000000  "
            ],
            "text/html": [
              "\n",
              "  <div id=\"df-d2d42817-c568-4ff5-a0eb-9b4e830e6026\">\n",
              "    <div class=\"colab-df-container\">\n",
              "      <div>\n",
              "<style scoped>\n",
              "    .dataframe tbody tr th:only-of-type {\n",
              "        vertical-align: middle;\n",
              "    }\n",
              "\n",
              "    .dataframe tbody tr th {\n",
              "        vertical-align: top;\n",
              "    }\n",
              "\n",
              "    .dataframe thead th {\n",
              "        text-align: right;\n",
              "    }\n",
              "</style>\n",
              "<table border=\"1\" class=\"dataframe\">\n",
              "  <thead>\n",
              "    <tr style=\"text-align: right;\">\n",
              "      <th></th>\n",
              "      <th>0</th>\n",
              "      <th>1</th>\n",
              "      <th>2</th>\n",
              "      <th>3</th>\n",
              "      <th>4</th>\n",
              "      <th>5</th>\n",
              "      <th>6</th>\n",
              "      <th>7</th>\n",
              "      <th>8</th>\n",
              "      <th>9</th>\n",
              "      <th>10</th>\n",
              "      <th>11</th>\n",
              "      <th>12</th>\n",
              "      <th>13</th>\n",
              "      <th>14</th>\n",
              "      <th>15</th>\n",
              "      <th>16</th>\n",
              "      <th>17</th>\n",
              "      <th>18</th>\n",
              "      <th>19</th>\n",
              "    </tr>\n",
              "  </thead>\n",
              "  <tbody>\n",
              "    <tr>\n",
              "      <th>Our cv value</th>\n",
              "      <td>0.024048</td>\n",
              "      <td>0.024048</td>\n",
              "      <td>0.016032</td>\n",
              "      <td>0.04008</td>\n",
              "      <td>0.040080</td>\n",
              "      <td>0.068136</td>\n",
              "      <td>0.016032</td>\n",
              "      <td>0.044088</td>\n",
              "      <td>0.032064</td>\n",
              "      <td>0.028056</td>\n",
              "      <td>0.092184</td>\n",
              "      <td>0.084168</td>\n",
              "      <td>0.000000</td>\n",
              "      <td>0.056112</td>\n",
              "      <td>0.052104</td>\n",
              "      <td>0.044088</td>\n",
              "      <td>0.052104</td>\n",
              "      <td>0.036072</td>\n",
              "      <td>0.00000</td>\n",
              "      <td>0.008016</td>\n",
              "    </tr>\n",
              "    <tr>\n",
              "      <th>LassoCV cv value</th>\n",
              "      <td>0.012024</td>\n",
              "      <td>0.040080</td>\n",
              "      <td>0.016032</td>\n",
              "      <td>0.04008</td>\n",
              "      <td>0.008016</td>\n",
              "      <td>0.060120</td>\n",
              "      <td>0.016032</td>\n",
              "      <td>0.044088</td>\n",
              "      <td>0.036072</td>\n",
              "      <td>0.040080</td>\n",
              "      <td>0.088176</td>\n",
              "      <td>0.080160</td>\n",
              "      <td>0.024048</td>\n",
              "      <td>0.056112</td>\n",
              "      <td>0.040080</td>\n",
              "      <td>0.052104</td>\n",
              "      <td>0.056112</td>\n",
              "      <td>0.040080</td>\n",
              "      <td>0.02004</td>\n",
              "      <td>0.008016</td>\n",
              "    </tr>\n",
              "    <tr>\n",
              "      <th>Difference</th>\n",
              "      <td>0.012024</td>\n",
              "      <td>-0.016032</td>\n",
              "      <td>0.000000</td>\n",
              "      <td>0.00000</td>\n",
              "      <td>0.032064</td>\n",
              "      <td>0.008016</td>\n",
              "      <td>0.000000</td>\n",
              "      <td>0.000000</td>\n",
              "      <td>-0.004008</td>\n",
              "      <td>-0.012024</td>\n",
              "      <td>0.004008</td>\n",
              "      <td>0.004008</td>\n",
              "      <td>-0.024048</td>\n",
              "      <td>0.000000</td>\n",
              "      <td>0.012024</td>\n",
              "      <td>-0.008016</td>\n",
              "      <td>-0.004008</td>\n",
              "      <td>-0.004008</td>\n",
              "      <td>-0.02004</td>\n",
              "      <td>0.000000</td>\n",
              "    </tr>\n",
              "  </tbody>\n",
              "</table>\n",
              "</div>\n",
              "      <button class=\"colab-df-convert\" onclick=\"convertToInteractive('df-d2d42817-c568-4ff5-a0eb-9b4e830e6026')\"\n",
              "              title=\"Convert this dataframe to an interactive table.\"\n",
              "              style=\"display:none;\">\n",
              "        \n",
              "  <svg xmlns=\"http://www.w3.org/2000/svg\" height=\"24px\"viewBox=\"0 0 24 24\"\n",
              "       width=\"24px\">\n",
              "    <path d=\"M0 0h24v24H0V0z\" fill=\"none\"/>\n",
              "    <path d=\"M18.56 5.44l.94 2.06.94-2.06 2.06-.94-2.06-.94-.94-2.06-.94 2.06-2.06.94zm-11 1L8.5 8.5l.94-2.06 2.06-.94-2.06-.94L8.5 2.5l-.94 2.06-2.06.94zm10 10l.94 2.06.94-2.06 2.06-.94-2.06-.94-.94-2.06-.94 2.06-2.06.94z\"/><path d=\"M17.41 7.96l-1.37-1.37c-.4-.4-.92-.59-1.43-.59-.52 0-1.04.2-1.43.59L10.3 9.45l-7.72 7.72c-.78.78-.78 2.05 0 2.83L4 21.41c.39.39.9.59 1.41.59.51 0 1.02-.2 1.41-.59l7.78-7.78 2.81-2.81c.8-.78.8-2.07 0-2.86zM5.41 20L4 18.59l7.72-7.72 1.47 1.35L5.41 20z\"/>\n",
              "  </svg>\n",
              "      </button>\n",
              "      \n",
              "  <style>\n",
              "    .colab-df-container {\n",
              "      display:flex;\n",
              "      flex-wrap:wrap;\n",
              "      gap: 12px;\n",
              "    }\n",
              "\n",
              "    .colab-df-convert {\n",
              "      background-color: #E8F0FE;\n",
              "      border: none;\n",
              "      border-radius: 50%;\n",
              "      cursor: pointer;\n",
              "      display: none;\n",
              "      fill: #1967D2;\n",
              "      height: 32px;\n",
              "      padding: 0 0 0 0;\n",
              "      width: 32px;\n",
              "    }\n",
              "\n",
              "    .colab-df-convert:hover {\n",
              "      background-color: #E2EBFA;\n",
              "      box-shadow: 0px 1px 2px rgba(60, 64, 67, 0.3), 0px 1px 3px 1px rgba(60, 64, 67, 0.15);\n",
              "      fill: #174EA6;\n",
              "    }\n",
              "\n",
              "    [theme=dark] .colab-df-convert {\n",
              "      background-color: #3B4455;\n",
              "      fill: #D2E3FC;\n",
              "    }\n",
              "\n",
              "    [theme=dark] .colab-df-convert:hover {\n",
              "      background-color: #434B5C;\n",
              "      box-shadow: 0px 1px 3px 1px rgba(0, 0, 0, 0.15);\n",
              "      filter: drop-shadow(0px 1px 2px rgba(0, 0, 0, 0.3));\n",
              "      fill: #FFFFFF;\n",
              "    }\n",
              "  </style>\n",
              "\n",
              "      <script>\n",
              "        const buttonEl =\n",
              "          document.querySelector('#df-d2d42817-c568-4ff5-a0eb-9b4e830e6026 button.colab-df-convert');\n",
              "        buttonEl.style.display =\n",
              "          google.colab.kernel.accessAllowed ? 'block' : 'none';\n",
              "\n",
              "        async function convertToInteractive(key) {\n",
              "          const element = document.querySelector('#df-d2d42817-c568-4ff5-a0eb-9b4e830e6026');\n",
              "          const dataTable =\n",
              "            await google.colab.kernel.invokeFunction('convertToInteractive',\n",
              "                                                     [key], {});\n",
              "          if (!dataTable) return;\n",
              "\n",
              "          const docLinkHtml = 'Like what you see? Visit the ' +\n",
              "            '<a target=\"_blank\" href=https://colab.research.google.com/notebooks/data_table.ipynb>data table notebook</a>'\n",
              "            + ' to learn more about interactive tables.';\n",
              "          element.innerHTML = '';\n",
              "          dataTable['output_type'] = 'display_data';\n",
              "          await google.colab.output.renderOutput(dataTable, element);\n",
              "          const docLink = document.createElement('div');\n",
              "          docLink.innerHTML = docLinkHtml;\n",
              "          element.appendChild(docLink);\n",
              "        }\n",
              "      </script>\n",
              "    </div>\n",
              "  </div>\n",
              "  "
            ]
          },
          "metadata": {},
          "execution_count": 74
        }
      ]
    },
    {
      "cell_type": "markdown",
      "source": [
        "Keeping in mind that we test 500 values of lambda, we can conclude that our results are pretty close to the LassoCV function, and so our implementation of CV is correct."
      ],
      "metadata": {
        "id": "9NIdAvA3s_s9"
      }
    },
    {
      "cell_type": "markdown",
      "source": [
        "The following code defines a function that makes the investigation of the estimators via simulation possible. It takes several parameters, explained in the coments below."
      ],
      "metadata": {
        "id": "TH8QYTF-W_Ju"
      }
    },
    {
      "cell_type": "code",
      "source": [
        "from locale import NOEXPR\n",
        "# n = number of samples\n",
        "# p = number of features\n",
        "# p0= sparsity level i.e. true features\n",
        "# sigma = noise of the observation\n",
        "# M = number of simulations \n",
        "# z = grid along which model selection is performed\n",
        "\n",
        "def Comparator(n,p,p0,sigma,M,z):\n",
        "  beta0=np.concatenate((np.ones(p0),np.zeros(p-p0)))\n",
        "  A=[]\n",
        "  B=[]\n",
        "  C=[]\n",
        "  AICs=0\n",
        "  BICs=0\n",
        "  CVs=0\n",
        "  for i in range(0,M):\n",
        "    X=np.random.normal(0,1,size=n*p).reshape(n,p)\n",
        "    Y=np.dot(X,beta0)+np.random.normal(0,sigma,size=n)\n",
        "    AICs=AIC_selector(X,Y,z,sigma)\n",
        "    BICs=BIC_selector(X,Y,z,sigma)\n",
        "    CVs=CV_selector(X,Y,z)\n",
        "\n",
        "    alm=lasso_optimizer(AICs)\n",
        "    alm.fit(X,Y)\n",
        "    A.append(pen(alm.coef_))\n",
        "\n",
        "    blm=lasso_optimizer(BICs)\n",
        "    blm.fit(X,Y)\n",
        "    B.append(pen(blm.coef_))\n",
        "\n",
        "    clm=lasso_optimizer(CVs)\n",
        "    clm.fit(X,Y)\n",
        "    C.append(pen(clm.coef_))\n",
        "\n",
        "  return(A,B,C)"
      ],
      "metadata": {
        "id": "dG9sk1gwzHzO"
      },
      "execution_count": 83,
      "outputs": []
    },
    {
      "cell_type": "markdown",
      "source": [
        "We first investigate the performance of each estimator with fixed noise\n",
        "$\\sigma=1$, sparsity level $p0=5$, and fixed sample size $n=100$. We vary the dimension $p$ starting from 5 in increments of 5 until we reach 200. For each dimension, we run 50 simulations of data $X,Y$, and compute the mean of $\\lambda_{AIC}$,$\\lambda_{BIC}$ and $\\lambda_{CV}$ over those simulations. In the way it is structured, the code easily allows to change the collection of models $\\mathscr{M}=z$ and the number of simulations $M$. However, if there is a convergence error message, one needs to increase the number of iterations in lasso_optimizer() defined at the begining of the code. This code runs quite slowly mainly due to the cross validation function being compuatationally demanding."
      ],
      "metadata": {
        "id": "Us-KoYZ-X5JA"
      }
    },
    {
      "cell_type": "code",
      "source": [
        "dims=np.arange(1,41)*5\n",
        "Aerror=[]\n",
        "Berror=[]\n",
        "Cerror=[]\n",
        "\n",
        "\n",
        "for x in dims:\n",
        "  S=Comparator(100,x,5,1,10,np.linspace(0,2,30))\n",
        "  Aerror.append(np.mean(S[0]))\n",
        "  Berror.append(np.mean(S[1]))\n",
        "  Cerror.append(np.mean(S[2]))\n",
        "\n",
        "plt.plot(dims,Aerror,label='AIC',c='blue')\n",
        "plt.plot(dims,Berror,label='BIC',c='red')\n",
        "plt.plot(dims,Cerror,label='CV',c='yellow')\n",
        "plt.xlabel('dimension')\n",
        "plt.ylabel('average l_0 norm of estimated coefficients')\n",
        "plt.legend()\n",
        "\n",
        "plt.show()"
      ],
      "metadata": {
        "colab": {
          "base_uri": "https://localhost:8080/",
          "height": 279
        },
        "id": "lsN-Bfc0j7lO",
        "outputId": "a4b59cd0-d88c-440e-d471-6a891324a7bd"
      },
      "execution_count": 84,
      "outputs": [
        {
          "output_type": "display_data",
          "data": {
            "text/plain": [
              "<Figure size 432x288 with 1 Axes>"
            ],
            "image/png": "[encoded data removed]"
          },
          "metadata": {
            "needs_background": "light"
          }
        }
      ]
    },
    {
      "cell_type": "markdown",
      "source": [
        "We plot the results to get an idea how well each estimator performs"
      ],
      "metadata": {
        "id": "Flv2j2HbZl8a"
      }
    },
    {
      "cell_type": "markdown",
      "source": [
        "Similar computation can be carried out for the influence of noise. Here we fix $n=100$, $p=10$, $p_0=5$, and we wary $\\sigma$ from 0 to 9 in increments of 1. The number of simulations $M$ is set to 30. "
      ],
      "metadata": {
        "id": "dRtunu3xZx6T"
      }
    },
    {
      "cell_type": "code",
      "source": [
        "noise=np.arange(0,10)\n",
        "\n",
        "Anoise=[]\n",
        "Bnoise=[]\n",
        "Cnoise=[]\n",
        "\n",
        "for y in noise:\n",
        "  T=Comparator(100,10,5,y,30,np.linspace(0,2,30))\n",
        "  Anoise.append(np.mean(T[0]))\n",
        "  Bnoise.append(np.mean(T[1]))\n",
        "  Cnoise.append(np.mean(T[2]))"
      ],
      "metadata": {
        "id": "sqeQ1OOPaYmb"
      },
      "execution_count": 85,
      "outputs": []
    },
    {
      "cell_type": "markdown",
      "source": [
        "And again we plot the results."
      ],
      "metadata": {
        "id": "Mhpw4cj1abrY"
      }
    },
    {
      "cell_type": "code",
      "source": [
        "plt.plot(noise,Anoise,color='blue',label='AIC')\n",
        "plt.plot(noise,Bnoise,color='red',label='BIC')\n",
        "plt.plot(noise,Cnoise,color='yellow',label='CV')\n",
        "plt.xlabel('noise')\n",
        "plt.ylabel('average l_0 norm')\n",
        "plt.legend()\n",
        "\n",
        "plt.show()\n"
      ],
      "metadata": {
        "colab": {
          "base_uri": "https://localhost:8080/",
          "height": 279
        },
        "id": "khVdDmBAjEr5",
        "outputId": "f656f37d-2885-4644-9ff9-d82837737e51"
      },
      "execution_count": 86,
      "outputs": [
        {
          "output_type": "display_data",
          "data": {
            "text/plain": [
              "<Figure size 432x288 with 1 Axes>"
            ],
            "image/png": "[encoded data removed]"
          },
          "metadata": {
            "needs_background": "light"
          }
        }
      ]
    }
  ],
  "metadata": {
    "colab": {
      "name": "ABC.ipynb",
      "provenance": [],
      "collapsed_sections": [],
      "authorship_tag": "ABX9TyO1Tycioc2qHRkk1DVI5cNp",
      "include_colab_link": true
    },
    "kernelspec": {
      "display_name": "Python 3",
      "name": "python3"
    },
    "language_info": {
      "name": "python"
    }
  },
  "nbformat": 4,
  "nbformat_minor": 0
}